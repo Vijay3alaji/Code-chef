{
 "cells": [
  {
   "cell_type": "code",
   "execution_count": null,
   "metadata": {},
   "outputs": [],
   "source": [
    "names = []\n",
    "scores = []\n",
    "sorted_name = []\n",
    "sorted_scores = []\n",
    "for i in range(int(input())):\n",
    "    name = input()\n",
    "    score = float(input())\n",
    "    names.append(name)\n",
    "    scores.append(score)\n",
    "                \n",
    "\n",
    "report = dict(zip(names, scores))\n",
    "sorted_report = dict(sorted(report.items(), key=lambda item: item[1]))\n",
    "\n",
    "\n",
    "for x in sorted_report:\n",
    "    sorted_name.append(x)\n",
    "    \n",
    "for y in sorted_report.values():\n",
    "    sorted_scores.append(y)\n",
    "\n",
    "\n",
    "indi = []\n",
    "indi1 = []\n",
    "sorted_names = []\n",
    "\n",
    "if sorted_scores[1]==sorted_scores[2]:\n",
    "    h = sorted_name[1:3]\n",
    "    h.sort()\n",
    "    sorted_names.append(h)\n",
    "\n",
    "    \n",
    "    \n",
    "    indi.append(sorted_names[0])\n",
    "    indi1.append(sorted_names[1])\n",
    "    \n",
    "    list_to_int = (str (i) for i in indi)\n",
    "    joining = \"\".join(list_to_int)\n",
    "    integer = str(joining)\n",
    "    print(integer)\n",
    "\n",
    "    list_to_int1 = (str (j) for j in indi1)\n",
    "    joining1 = \"\".join(list_to_int1)\n",
    "    integer1 = str(joining1)\n",
    "    print(integer1)\n",
    "    \n",
    "else:\n",
    "    print(sorted_name[1])"
   ]
  }
 ],
 "metadata": {
  "kernelspec": {
   "display_name": "Python 3",
   "language": "python",
   "name": "python3"
  },
  "language_info": {
   "codemirror_mode": {
    "name": "ipython",
    "version": 3
   },
   "file_extension": ".py",
   "mimetype": "text/x-python",
   "name": "python",
   "nbconvert_exporter": "python",
   "pygments_lexer": "ipython3",
   "version": "3.8.3"
  }
 },
 "nbformat": 4,
 "nbformat_minor": 4
}
