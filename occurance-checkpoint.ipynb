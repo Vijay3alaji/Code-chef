{
 "cells": [
  {
   "cell_type": "code",
   "execution_count": null,
   "metadata": {},
   "outputs": [],
   "source": [
    "N = int(input())\n",
    "lst=[]\n",
    "for i in range(0,N):\n",
    "    values = int(input())\n",
    "    \n",
    "    my_values = str(values)\n",
    "    mapping = map(int, my_values)\n",
    "    mapped_values = list(mapping)\n",
    "    \n",
    "    counts = mapped_values.count(4)\n",
    "    print(counts)"
   ]
  }
 ],
 "metadata": {
  "kernelspec": {
   "display_name": "Python 3",
   "language": "python",
   "name": "python3"
  },
  "language_info": {
   "codemirror_mode": {
    "name": "ipython",
    "version": 3
   },
   "file_extension": ".py",
   "mimetype": "text/x-python",
   "name": "python",
   "nbconvert_exporter": "python",
   "pygments_lexer": "ipython3",
   "version": "3.8.3"
  }
 },
 "nbformat": 4,
 "nbformat_minor": 4
}
